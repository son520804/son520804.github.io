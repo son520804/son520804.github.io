{
 "cells": [
  {
   "cell_type": "code",
   "execution_count": 1,
   "metadata": {},
   "outputs": [],
   "source": [
    "# The office hour will start in 3 minutes. \n",
    "\n",
    "# During the office hour, you can clarify and ask questions about course content.\n",
    "# You can also talk about problems regarding your reading, code, etc. \n",
    "# I am glad to explain and help. Let us begin soon!"
   ]
  },
  {
   "cell_type": "code",
   "execution_count": null,
   "metadata": {},
   "outputs": [],
   "source": [
    "# Exploratory data analysis"
   ]
  },
  {
   "cell_type": "markdown",
   "metadata": {},
   "source": [
    "## Matplotlib Interfaces\n",
    "\n",
    "Matplotlib provides two interfaces for plotting:\n",
    "\n",
    "* Object Oriented interface\n",
    "* MATLAB style plotting scripting layer pyplot\n"
   ]
  },
  {
   "cell_type": "markdown",
   "metadata": {},
   "source": [
    "## Matplotlib Object Oriented Interface\n",
    "\n",
    "In Matplotlib “Object Oriented Interface”, every figure is divided into some objects and the object hierarchy should be clearly described.\n",
    "\n",
    "A Figure in matplotlib is divided into two different objects.\n",
    "* Figure object\n",
    "* Axes object\n",
    "\n",
    "* A **Figure object** can contain one or more axes objects. One axes represents one plot inside figure. In this tutorial we will be working with the axes object directly for all kinds of plotting.\n",
    "\n",
    "* One or more **axes** objects are required to get us started with plotting. There are more then one ways an axes object can be obtained."
   ]
  },
  {
   "cell_type": "code",
   "execution_count": 2,
   "metadata": {},
   "outputs": [
    {
     "data": {
      "text/plain": [
       "matplotlib.figure.Figure"
      ]
     },
     "execution_count": 2,
     "metadata": {},
     "output_type": "execute_result"
    },
    {
     "data": {
      "text/plain": [
       "<Figure size 432x288 with 0 Axes>"
      ]
     },
     "metadata": {},
     "output_type": "display_data"
    }
   ],
   "source": [
    "# Let's start with importing matplotlib.pyplot as plt\n",
    "import matplotlib.pyplot as plt\n",
    "\n",
    "fig = plt.figure()\n",
    "type(fig)"
   ]
  },
  {
   "cell_type": "markdown",
   "metadata": {},
   "source": [
    "## Layers\n",
    "\n",
    "The Matplotlib architecture is composed of three main layers:\n",
    "* Backend Layer — Handles all the heavy works via communicating to the drawing toolkits in your machine. It is the most complex layer.\n",
    "* Artist Layer — Allows full control and fine-tuning of the Matplotlibfigure — the top-level container for all plot elements. (Tackling artistic parameters such as Rectangle, circles and Axis, tick, axes, figure)\n",
    "* Scripting Layer — The lightest scripting interface among the three layers, designed to make Matplotlib work like MATLAB script.\n"
   ]
  },
  {
   "cell_type": "markdown",
   "metadata": {},
   "source": [
    "* plt.figure() returns a Figure object. So we have an empty Figure object at this moment.\n",
    "* add_subplot(num_rows, num_cols, subplot_location) method creates a grid of subplots of size (num_rows x num_cols) and returns an axes object for the subplot at subplot_location.\n",
    "\n",
    "* First subplot is at (first row, first column) location. \n",
    "\n",
    "add_subplot(3, 3, 2) - will located at the first row, second column\n",
    "add_subplot(3, 3, 4) - will located at the second row, first column"
   ]
  },
  {
   "cell_type": "code",
   "execution_count": 4,
   "metadata": {},
   "outputs": [
    {
     "data": {
      "image/png": "[encoded data removed]",
      "text/plain": [
       "<Figure size 432x288 with 4 Axes>"
      ]
     },
     "metadata": {
      "needs_background": "light"
     },
     "output_type": "display_data"
    }
   ],
   "source": [
    "# We divide the figure in a 2x2 grid of subplots and get the axes object for all the subplots.\n",
    "\n",
    "fig = plt.figure()\n",
    "\n",
    "# Generate a grid of 2x2 subplots and get\n",
    "# axes object for 1st location\n",
    "ax1 = fig.add_subplot(2,2,1)\n",
    "ax1.set_title('First Location')\n",
    "\n",
    "# Get the axes for subplot at 2nd location\n",
    "ax2 = fig.add_subplot(2,2,2)\n",
    "ax2.set_title('Second Location')\n",
    "\n",
    "# Get the axes for subplot at 3nd location\n",
    "ax3 = fig.add_subplot(2,2,3)\n",
    "ax3.set_xlabel('Third Location')\n",
    "\n",
    "# Get the axes for subplot at 3nd location\n",
    "ax4 = fig.add_subplot(2,2,4)\n",
    "ax4.set_xlabel('Fourth Location')\n",
    "\n",
    "# Display the image\n",
    "plt.show()"
   ]
  },
  {
   "cell_type": "markdown",
   "metadata": {},
   "source": [
    "Once we get the axes object we can call the methods of the axes object to generate plots.\n",
    "\n",
    "We will be using following methods of the axes objects in our examples:\n",
    "\n",
    "* plot(x,y) - Generate y vs x graph\n",
    "* set_xlabel() - label for the x-axis\n",
    "* set_ylabel() - label for the y-axis\n",
    "* set_title() : Title of the plot\n",
    "* legend() - generate legend for the graph\n",
    "* hist() - generate histogram plot\n",
    "* scatter() - generate scatter plot\n",
    "\n",
    "- https://matplotlib.org/api/axes_api.html"
   ]
  },
  {
   "cell_type": "code",
   "execution_count": null,
   "metadata": {},
   "outputs": [],
   "source": [
    "# If np.log: A value of 10 actually equals to e (exponential) to the power of 10\n",
    "# If np.log10 - A value of 10 actually equals to 10 to the power of 10 -> 10000000000"
   ]
  },
  {
   "cell_type": "code",
   "execution_count": 5,
   "metadata": {
    "scrolled": true
   },
   "outputs": [
    {
     "data": {
      "image/png": "[encoded data removed]",
      "text/plain": [
       "<Figure size 432x288 with 1 Axes>"
      ]
     },
     "metadata": {
      "needs_background": "light"
     },
     "output_type": "display_data"
    }
   ],
   "source": [
    "def multiple_curve_plot(input_list):\n",
    "    '''\n",
    "    This function generates a line and a curve based on the list of value provided.\n",
    "    Input: a list of values\n",
    "    Output: an image containing a y = x line and z = x^2 curve\n",
    "    '''\n",
    "    \n",
    "    def list_square(input_list):\n",
    "        # Remember that list comprehension is more efficient than for loop in most cases\n",
    "        return [element**2 for element in input_list]\n",
    "    \n",
    "    # We first create a figure object called fig\n",
    "    fig = plt.figure()\n",
    "    \n",
    "    # And we specify the variables x, y, z\n",
    "    x = input_list\n",
    "    y = x\n",
    "    z = list_square(input_list)\n",
    "    \n",
    "    # Get the axes instance\n",
    "    ax = fig.add_subplot(1,1,1) # Last one is the location\n",
    "    \n",
    "    # We are going to make multiple plot in same subplot window. So ax.plot()\n",
    "    # We plot y = x and z = x^2 in the same subplot window.\n",
    "    # This time ax.plot() is called with one additional argument — label. \n",
    "    # This is to set the label for the graph. This label is used by ax.legend() method \n",
    "    # to generate a legend for the plot.\n",
    "    \n",
    "    ax.plot(x, y, label ='y')\n",
    "    ax.plot(x, z, label ='z')\n",
    "    ax.set_xlabel(\"x value\")\n",
    "    \n",
    "    # To generate labels, ax.legend()\n",
    "    ax.legend()\n",
    "    \n",
    "    # We finally use set_title to specify the title name of the graph\n",
    "    ax.set_title('Two plots one axes')\n",
    "\n",
    "    # and show the plot\n",
    "    return plt.show()\n",
    "test_list = [1, 3, 5, 7, 10]\n",
    "multiple_curve_plot(test_list)"
   ]
  },
  {
   "cell_type": "code",
   "execution_count": null,
   "metadata": {},
   "outputs": [],
   "source": [
    "# plt.plot(x, y)\n",
    "# plt.plot(x, z)"
   ]
  },
  {
   "cell_type": "code",
   "execution_count": 7,
   "metadata": {},
   "outputs": [
    {
     "data": {
      "image/png": "[encoded data removed]",
      "text/plain": [
       "<Figure size 432x288 with 2 Axes>"
      ]
     },
     "metadata": {
      "needs_background": "light"
     },
     "output_type": "display_data"
    }
   ],
   "source": [
    "def two_plots_figure(input_list):\n",
    "    '''\n",
    "    This function generates a line plot and a curve plot separately based on the list of value provided.\n",
    "    Input: a list of values\n",
    "    output: Two plots, one containing a x = y line and another containing a x = y^2 curve\n",
    "    '''\n",
    "    \n",
    "    # We create a convenience function to get the square of each element in the list\n",
    "    def list_square(input_list):\n",
    "        # Remember that list comprehension is more efficient than for loop in most cases\n",
    "        return [element**2 for element in input_list]\n",
    "    \n",
    "    # We first create a figure object called fig\n",
    "    fig = plt.figure()\n",
    "    # And specify the variables x, y and z \n",
    "    x = input_list\n",
    "    y = x\n",
    "    z = list_square(input_list)\n",
    "\n",
    "    # Get the axes instance: Divide the figure into 1 row 2 column grid and \n",
    "    # get the axes object for the first column\n",
    "    ax1 = fig.add_subplot(1,2,1)\n",
    "\n",
    "    # We are going to use ax.plot() to plot y = x first\n",
    "    ax1.plot(x, y)\n",
    "    ax1.set_xlabel(\"X Value\")\n",
    "    ax1.set_ylabel(\"Y Value\")\n",
    "    ax1.set_title('y = x plot')\n",
    "    \n",
    "    # Get the axes object for the second column\n",
    "    ax2 = fig.add_subplot(1,2,2)\n",
    "\n",
    "    # We are going to use ax.plot() to plot z = x*2 first\n",
    "    ax2.plot(x, z)\n",
    "    ax2.set_xlabel(\"X Value\")\n",
    "    ax2.set_ylabel(\"Z Value\")\n",
    "    ax2.set_title('z = x^2 plot')\n",
    "    \n",
    "    # Generate the overall title for the Figure. \n",
    "    # Note that this is different then the title for individual plots\n",
    "    plt.suptitle(\"Two plots in a figure\")\n",
    "\n",
    "    # and show the plot\n",
    "    return plt.show()\n",
    "\n",
    "test_list = [1, 2, 3, 4, 5, 10]\n",
    "two_plots_figure(test_list)"
   ]
  },
  {
   "cell_type": "code",
   "execution_count": 10,
   "metadata": {},
   "outputs": [
    {
     "data": {
      "text/plain": [
       "<matplotlib.legend.Legend at 0x1da5f61f400>"
      ]
     },
     "execution_count": 10,
     "metadata": {},
     "output_type": "execute_result"
    },
    {
     "data": {
      "image/png": "[encoded data removed]",
      "text/plain": [
       "<Figure size 432x288 with 1 Axes>"
      ]
     },
     "metadata": {
      "needs_background": "light"
     },
     "output_type": "display_data"
    }
   ],
   "source": [
    "def list_square(input_list):\n",
    "    # Remember that list comprehension is more efficient than for loop in most cases\n",
    "    return [element**2 for element in input_list]\n",
    "\n",
    "x = [1, 2, 3, 4, 5, 10]\n",
    "y = x\n",
    "z = list_square(x)\n",
    "\n",
    "plt.plot(x, y, label = 'y')\n",
    "plt.plot(x, z, label = 'z')\n",
    "plt.legend()"
   ]
  },
  {
   "cell_type": "code",
   "execution_count": null,
   "metadata": {},
   "outputs": [],
   "source": []
  }
 ],
 "metadata": {
  "kernelspec": {
   "display_name": "Python 3",
   "language": "python",
   "name": "python3"
  },
  "language_info": {
   "codemirror_mode": {
    "name": "ipython",
    "version": 3
   },
   "file_extension": ".py",
   "mimetype": "text/x-python",
   "name": "python",
   "nbconvert_exporter": "python",
   "pygments_lexer": "ipython3",
   "version": "3.8.3"
  }
 },
 "nbformat": 4,
 "nbformat_minor": 4
}
